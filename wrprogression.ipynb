{
 "cells": [
  {
   "cell_type": "markdown",
   "metadata": {},
   "source": [
    "Early look into WR progression. </br>\n",
    "And a kickoff to **From the Blocks** !! </br>\n",
    "Yeehaw, baby! "
   ]
  },
  {
   "cell_type": "code",
   "execution_count": 3,
   "metadata": {},
   "outputs": [],
   "source": [
    "# libraries\n",
    "import pandas as pd\n",
    "import numpy as np\n",
    "import os"
   ]
  },
  {
   "cell_type": "code",
   "execution_count": 6,
   "metadata": {},
   "outputs": [],
   "source": [
    "# data load\n",
    "path = '/Users/orly/Desktop/Swim Stats/WR Progression'\n",
    "wr = pd.read_csv(os.path.join(path, 'WRProgression.csv'))"
   ]
  },
  {
   "cell_type": "code",
   "execution_count": 8,
   "metadata": {},
   "outputs": [
    {
     "name": "stdout",
     "output_type": "stream",
     "text": [
      "Index(['Rank', 'Event', 'Sex', 'Time', 'Set', 'Note', 'Name', 'Nationality',\n",
      "       'Date', 'Meet', 'Location', 'Comments'],\n",
      "      dtype='object')\n"
     ]
    }
   ],
   "source": [
    "print(wr.columns)"
   ]
  },
  {
   "cell_type": "code",
   "execution_count": 20,
   "metadata": {},
   "outputs": [],
   "source": [
    "# will be doing a lot of analysis for men and women separately\n",
    "# save separate datasets now to make it easier later\n",
    "wrm = wr[wr['Sex'] == 'M']\n",
    "wrf = wr[wr['Sex'] == 'F']"
   ]
  },
  {
   "cell_type": "code",
   "execution_count": 21,
   "metadata": {},
   "outputs": [
    {
     "name": "stdout",
     "output_type": "stream",
     "text": [
      "There are 552 total swimmers, 288 men and 264 women.\n"
     ]
    }
   ],
   "source": [
    "# start simple\n",
    "# separate M and F\n",
    "# how many swimmers are there?\n",
    "\n",
    "# break out\n",
    "swimmer_count_m = wrm['Name'].nunique()\n",
    "swimmer_count_f = wrf['Name'].nunique()\n",
    "\n",
    "# total\n",
    "swimmer_count = wr['Name'].nunique()\n",
    "\n",
    "print('There are', swimmer_count, 'total swimmers,', swimmer_count_m, 'men and', swimmer_count_f, 'women.')"
   ]
  },
  {
   "cell_type": "code",
   "execution_count": 34,
   "metadata": {},
   "outputs": [
    {
     "name": "stdout",
     "output_type": "stream",
     "text": [
      "                Name    Nationality  count\n",
      "0     Michael Phelps  United States     29\n",
      "1         Mark Spitz  United States     24\n",
      "2     Roland Matthes   East Germany     16\n",
      "3    Don Schollander  United States     14\n",
      "4         Ian Thorpe      Australia     13\n",
      "5      Aaron Peirsol  United States     13\n",
      "6  Vladimir Salnikov   Soviet Union     13\n",
      "7       John Hencken  United States     12\n",
      "8       John Konrads      Australia     12\n",
      "9    Stephen Holland      Australia     11\n",
      "              Name    Nationality  count\n",
      "0   Kornelia Ender   East Germany     24\n",
      "1  Ragnhild Hveger        Denmark     15\n",
      "2     Debbie Meyer  United States     15\n",
      "3      Dawn Fraser      Australia     15\n",
      "4    Katie Ledecky  United States     15\n",
      "5  Donna de Varona  United States     13\n",
      "6   Inge de Bruijn    Netherlands     12\n",
      "7   Penelope Heyns   South Africa     11\n",
      "8      Shane Gould      Australia     11\n",
      "9    Satoko Tanaka          Japan     10\n"
     ]
    }
   ],
   "source": [
    "# how many records has each swimmer set?\n",
    "# men\n",
    "records_m = wrm[['Name', 'Nationality']].value_counts().reset_index()\n",
    "print(records_m.head(10))\n",
    "\n",
    "# women\n",
    "records_f = wrf[['Name', 'Nationality']].value_counts().reset_index()\n",
    "print(records_f.head(10))"
   ]
  },
  {
   "cell_type": "code",
   "execution_count": 37,
   "metadata": {},
   "outputs": [
    {
     "name": "stdout",
     "output_type": "stream",
     "text": [
      "     Nationality  count\n",
      "0  United States    380\n",
      "1      Australia    103\n",
      "2          Japan     42\n",
      "3   Soviet Union     33\n",
      "4  Great Britain     26\n",
      "5         France     23\n",
      "6   East Germany     22\n",
      "7        Hungary     20\n",
      "8   West Germany     18\n",
      "9         Russia     17\n",
      "     Nationality  count\n",
      "0  United States    253\n",
      "1   East Germany    116\n",
      "2      Australia     96\n",
      "3    Netherlands     62\n",
      "4        Germany     21\n",
      "5   South Africa     20\n",
      "6        Denmark     19\n",
      "7         Sweden     18\n",
      "8         Canada     16\n",
      "9          China     16\n"
     ]
    }
   ],
   "source": [
    "# records by country\n",
    "# men\n",
    "records_bycountry_m = wrm['Nationality'].value_counts().reset_index()\n",
    "print(records_bycountry_m.head(10))\n",
    "\n",
    "# women\n",
    "records_bycountry_f = wrf['Nationality'].value_counts().reset_index()\n",
    "print(records_bycountry_f.head(10))"
   ]
  },
  {
   "cell_type": "code",
   "execution_count": null,
   "metadata": {},
   "outputs": [],
   "source": [
    "# swimmers with records in the most different events\n"
   ]
  },
  {
   "cell_type": "code",
   "execution_count": null,
   "metadata": {},
   "outputs": [],
   "source": [
    "# shortest time between records in the same event\n"
   ]
  },
  {
   "cell_type": "code",
   "execution_count": null,
   "metadata": {},
   "outputs": [],
   "source": [
    "# longest time between records in the same event\n"
   ]
  }
 ],
 "metadata": {
  "kernelspec": {
   "display_name": "base",
   "language": "python",
   "name": "python3"
  },
  "language_info": {
   "codemirror_mode": {
    "name": "ipython",
    "version": 3
   },
   "file_extension": ".py",
   "mimetype": "text/x-python",
   "name": "python",
   "nbconvert_exporter": "python",
   "pygments_lexer": "ipython3",
   "version": "3.12.4"
  }
 },
 "nbformat": 4,
 "nbformat_minor": 2
}
