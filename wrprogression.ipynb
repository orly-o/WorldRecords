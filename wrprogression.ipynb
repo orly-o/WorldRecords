{
 "cells": [
  {
   "cell_type": "markdown",
   "metadata": {},
   "source": [
    "Early look into WR progression. </br>\n",
    "And a kickoff to **From the Blocks** !! </br>\n",
    "Yeehaw, baby! "
   ]
  },
  {
   "cell_type": "code",
   "execution_count": 178,
   "metadata": {},
   "outputs": [],
   "source": [
    "# libraries\n",
    "import pandas as pd\n",
    "import numpy as np\n",
    "import os\n",
    "from IPython.display import display"
   ]
  },
  {
   "cell_type": "code",
   "execution_count": 157,
   "metadata": {},
   "outputs": [],
   "source": [
    "# data load\n",
    "path = '/Users/orly/Desktop/Swim Stats/WR Progression'\n",
    "wr = pd.read_csv(os.path.join(path, 'WRProgression.csv'))"
   ]
  },
  {
   "cell_type": "code",
   "execution_count": 158,
   "metadata": {},
   "outputs": [],
   "source": [
    "# new columns / data manipulation\n",
    "\n",
    "# stroke and distance, extract from event column\n",
    "wr[['Distance', 'Stroke']] = wr['Event'].str.split(' ', n = 1, expand = True)"
   ]
  },
  {
   "cell_type": "code",
   "execution_count": 171,
   "metadata": {},
   "outputs": [
    {
     "name": "stdout",
     "output_type": "stream",
     "text": [
      "(1515, 14)\n"
     ]
    }
   ],
   "source": [
    "# describe\n",
    "print(wr.shape)"
   ]
  },
  {
   "cell_type": "code",
   "execution_count": 159,
   "metadata": {},
   "outputs": [
    {
     "name": "stdout",
     "output_type": "stream",
     "text": [
      "Index(['Rank', 'Event', 'Sex', 'Time', 'Set', 'Note', 'Name', 'Nationality',\n",
      "       'Date', 'Meet', 'Location', 'Comments', 'Distance', 'Stroke'],\n",
      "      dtype='object')\n"
     ]
    }
   ],
   "source": [
    "print(wr.columns)"
   ]
  },
  {
   "cell_type": "code",
   "execution_count": 160,
   "metadata": {},
   "outputs": [
    {
     "name": "stdout",
     "output_type": "stream",
     "text": [
      "  Rank    Event Sex   Time       Set Note             Name    Nationality  \\\n",
      "0    1  50 Free   M  23.86  En Route  NaN    Jonty Skinner   South Africa   \n",
      "1    2  50 Free   M  23.74       NaN  NaN       Joe Bottom  United States   \n",
      "2    3  50 Free   M  23.72       NaN  NaN  Ron Manganiello  United States   \n",
      "3    4  50 Free   M  23.70       NaN  NaN  Klaus Steinbach   West Germany   \n",
      "4    5  50 Free   M  23.66       NaN  NaN  Chris Cavanaugh  United States   \n",
      "\n",
      "      Date                        Meet  \\\n",
      "0  8/14/76               AAU Nationals   \n",
      "1   7/3/77                  Canada Cup   \n",
      "2  7/29/78                           -   \n",
      "3  7/23/79                           -   \n",
      "4   2/2/80  International Invitational   \n",
      "\n",
      "                                    Location Comments Distance Stroke  \n",
      "0  Philadelphia, Pennsylvania, United States      NaN       50   Free  \n",
      "1                          Etobicoke, Canada      NaN       50   Free  \n",
      "2              Miami, Florida, United States      NaN       50   Free  \n",
      "3                     Freiburg, West Germany      NaN       50   Free  \n",
      "4                    Amersfoort, Netherlands      NaN       50   Free  \n"
     ]
    }
   ],
   "source": [
    "print(wr.head(5))"
   ]
  },
  {
   "cell_type": "code",
   "execution_count": 161,
   "metadata": {},
   "outputs": [],
   "source": [
    "# will be doing a lot of analysis for men and women separately\n",
    "# save separate datasets now to make it easier later\n",
    "wrm = wr[wr['Sex'] == 'M']\n",
    "wrf = wr[wr['Sex'] == 'F']"
   ]
  },
  {
   "cell_type": "code",
   "execution_count": 162,
   "metadata": {},
   "outputs": [
    {
     "name": "stdout",
     "output_type": "stream",
     "text": [
      "There are 552 total swimmers, 288 men and 264 women.\n"
     ]
    }
   ],
   "source": [
    "# start simple\n",
    "# separate M and F\n",
    "# how many swimmers are there?\n",
    "\n",
    "# break out\n",
    "swimmer_count_m = wrm['Name'].nunique()\n",
    "swimmer_count_f = wrf['Name'].nunique()\n",
    "\n",
    "# total\n",
    "swimmer_count = wr['Name'].nunique()\n",
    "\n",
    "print('There are', swimmer_count, 'total swimmers,', swimmer_count_m, 'men and', swimmer_count_f, 'women.')"
   ]
  },
  {
   "cell_type": "code",
   "execution_count": 179,
   "metadata": {},
   "outputs": [
    {
     "data": {
      "text/html": [
       "<div>\n",
       "<style scoped>\n",
       "    .dataframe tbody tr th:only-of-type {\n",
       "        vertical-align: middle;\n",
       "    }\n",
       "\n",
       "    .dataframe tbody tr th {\n",
       "        vertical-align: top;\n",
       "    }\n",
       "\n",
       "    .dataframe thead th {\n",
       "        text-align: right;\n",
       "    }\n",
       "</style>\n",
       "<table border=\"1\" class=\"dataframe\">\n",
       "  <thead>\n",
       "    <tr style=\"text-align: right;\">\n",
       "      <th></th>\n",
       "      <th>Name</th>\n",
       "      <th>Nationality</th>\n",
       "      <th>count</th>\n",
       "    </tr>\n",
       "  </thead>\n",
       "  <tbody>\n",
       "    <tr>\n",
       "      <th>0</th>\n",
       "      <td>Michael Phelps</td>\n",
       "      <td>United States</td>\n",
       "      <td>29</td>\n",
       "    </tr>\n",
       "    <tr>\n",
       "      <th>1</th>\n",
       "      <td>Mark Spitz</td>\n",
       "      <td>United States</td>\n",
       "      <td>24</td>\n",
       "    </tr>\n",
       "    <tr>\n",
       "      <th>2</th>\n",
       "      <td>Roland Matthes</td>\n",
       "      <td>East Germany</td>\n",
       "      <td>16</td>\n",
       "    </tr>\n",
       "    <tr>\n",
       "      <th>3</th>\n",
       "      <td>Don Schollander</td>\n",
       "      <td>United States</td>\n",
       "      <td>14</td>\n",
       "    </tr>\n",
       "    <tr>\n",
       "      <th>4</th>\n",
       "      <td>Ian Thorpe</td>\n",
       "      <td>Australia</td>\n",
       "      <td>13</td>\n",
       "    </tr>\n",
       "  </tbody>\n",
       "</table>\n",
       "</div>"
      ],
      "text/plain": [
       "              Name    Nationality  count\n",
       "0   Michael Phelps  United States     29\n",
       "1       Mark Spitz  United States     24\n",
       "2   Roland Matthes   East Germany     16\n",
       "3  Don Schollander  United States     14\n",
       "4       Ian Thorpe      Australia     13"
      ]
     },
     "metadata": {},
     "output_type": "display_data"
    }
   ],
   "source": [
    "# how many records has each swimmer set?\n",
    "# men\n",
    "records_m = wrm[['Name', 'Nationality']].value_counts().reset_index()\n",
    "print(records_m.head(5))\n",
    "# records_m.head(5).to_clipboard()\n",
    "display(records_m.head(5))"
   ]
  },
  {
   "cell_type": "code",
   "execution_count": 180,
   "metadata": {},
   "outputs": [
    {
     "data": {
      "text/html": [
       "<div>\n",
       "<style scoped>\n",
       "    .dataframe tbody tr th:only-of-type {\n",
       "        vertical-align: middle;\n",
       "    }\n",
       "\n",
       "    .dataframe tbody tr th {\n",
       "        vertical-align: top;\n",
       "    }\n",
       "\n",
       "    .dataframe thead th {\n",
       "        text-align: right;\n",
       "    }\n",
       "</style>\n",
       "<table border=\"1\" class=\"dataframe\">\n",
       "  <thead>\n",
       "    <tr style=\"text-align: right;\">\n",
       "      <th></th>\n",
       "      <th>Name</th>\n",
       "      <th>Nationality</th>\n",
       "      <th>count</th>\n",
       "    </tr>\n",
       "  </thead>\n",
       "  <tbody>\n",
       "    <tr>\n",
       "      <th>0</th>\n",
       "      <td>Kornelia Ender</td>\n",
       "      <td>East Germany</td>\n",
       "      <td>24</td>\n",
       "    </tr>\n",
       "    <tr>\n",
       "      <th>1</th>\n",
       "      <td>Debbie Meyer</td>\n",
       "      <td>United States</td>\n",
       "      <td>15</td>\n",
       "    </tr>\n",
       "    <tr>\n",
       "      <th>2</th>\n",
       "      <td>Ragnhild Hveger</td>\n",
       "      <td>Denmark</td>\n",
       "      <td>15</td>\n",
       "    </tr>\n",
       "    <tr>\n",
       "      <th>3</th>\n",
       "      <td>Katie Ledecky</td>\n",
       "      <td>United States</td>\n",
       "      <td>15</td>\n",
       "    </tr>\n",
       "    <tr>\n",
       "      <th>4</th>\n",
       "      <td>Dawn Fraser</td>\n",
       "      <td>Australia</td>\n",
       "      <td>15</td>\n",
       "    </tr>\n",
       "  </tbody>\n",
       "</table>\n",
       "</div>"
      ],
      "text/plain": [
       "              Name    Nationality  count\n",
       "0   Kornelia Ender   East Germany     24\n",
       "1     Debbie Meyer  United States     15\n",
       "2  Ragnhild Hveger        Denmark     15\n",
       "3    Katie Ledecky  United States     15\n",
       "4      Dawn Fraser      Australia     15"
      ]
     },
     "metadata": {},
     "output_type": "display_data"
    }
   ],
   "source": [
    "# women\n",
    "records_f = wrf[['Name', 'Nationality']].value_counts().reset_index()\n",
    "# print(records_f.head(5))\n",
    "display(records_f.head(5))"
   ]
  },
  {
   "cell_type": "code",
   "execution_count": 181,
   "metadata": {},
   "outputs": [
    {
     "data": {
      "text/html": [
       "<div>\n",
       "<style scoped>\n",
       "    .dataframe tbody tr th:only-of-type {\n",
       "        vertical-align: middle;\n",
       "    }\n",
       "\n",
       "    .dataframe tbody tr th {\n",
       "        vertical-align: top;\n",
       "    }\n",
       "\n",
       "    .dataframe thead th {\n",
       "        text-align: right;\n",
       "    }\n",
       "</style>\n",
       "<table border=\"1\" class=\"dataframe\">\n",
       "  <thead>\n",
       "    <tr style=\"text-align: right;\">\n",
       "      <th></th>\n",
       "      <th>Nationality</th>\n",
       "      <th>count</th>\n",
       "    </tr>\n",
       "  </thead>\n",
       "  <tbody>\n",
       "    <tr>\n",
       "      <th>0</th>\n",
       "      <td>United States</td>\n",
       "      <td>380</td>\n",
       "    </tr>\n",
       "    <tr>\n",
       "      <th>1</th>\n",
       "      <td>Australia</td>\n",
       "      <td>103</td>\n",
       "    </tr>\n",
       "    <tr>\n",
       "      <th>2</th>\n",
       "      <td>Japan</td>\n",
       "      <td>42</td>\n",
       "    </tr>\n",
       "    <tr>\n",
       "      <th>3</th>\n",
       "      <td>Soviet Union</td>\n",
       "      <td>33</td>\n",
       "    </tr>\n",
       "    <tr>\n",
       "      <th>4</th>\n",
       "      <td>Great Britain</td>\n",
       "      <td>26</td>\n",
       "    </tr>\n",
       "  </tbody>\n",
       "</table>\n",
       "</div>"
      ],
      "text/plain": [
       "     Nationality  count\n",
       "0  United States    380\n",
       "1      Australia    103\n",
       "2          Japan     42\n",
       "3   Soviet Union     33\n",
       "4  Great Britain     26"
      ]
     },
     "metadata": {},
     "output_type": "display_data"
    }
   ],
   "source": [
    "# records by country\n",
    "# men\n",
    "records_bycountry_m = wrm['Nationality'].value_counts().reset_index()\n",
    "# print(records_bycountry_m.head(5))\n",
    "display(records_bycountry_m.head(5))"
   ]
  },
  {
   "cell_type": "code",
   "execution_count": 183,
   "metadata": {},
   "outputs": [
    {
     "data": {
      "text/html": [
       "<div>\n",
       "<style scoped>\n",
       "    .dataframe tbody tr th:only-of-type {\n",
       "        vertical-align: middle;\n",
       "    }\n",
       "\n",
       "    .dataframe tbody tr th {\n",
       "        vertical-align: top;\n",
       "    }\n",
       "\n",
       "    .dataframe thead th {\n",
       "        text-align: right;\n",
       "    }\n",
       "</style>\n",
       "<table border=\"1\" class=\"dataframe\">\n",
       "  <thead>\n",
       "    <tr style=\"text-align: right;\">\n",
       "      <th></th>\n",
       "      <th>Nationality</th>\n",
       "      <th>count</th>\n",
       "    </tr>\n",
       "  </thead>\n",
       "  <tbody>\n",
       "    <tr>\n",
       "      <th>0</th>\n",
       "      <td>United States</td>\n",
       "      <td>253</td>\n",
       "    </tr>\n",
       "    <tr>\n",
       "      <th>1</th>\n",
       "      <td>East Germany</td>\n",
       "      <td>116</td>\n",
       "    </tr>\n",
       "    <tr>\n",
       "      <th>2</th>\n",
       "      <td>Australia</td>\n",
       "      <td>96</td>\n",
       "    </tr>\n",
       "    <tr>\n",
       "      <th>3</th>\n",
       "      <td>Netherlands</td>\n",
       "      <td>62</td>\n",
       "    </tr>\n",
       "    <tr>\n",
       "      <th>4</th>\n",
       "      <td>Germany</td>\n",
       "      <td>21</td>\n",
       "    </tr>\n",
       "  </tbody>\n",
       "</table>\n",
       "</div>"
      ],
      "text/plain": [
       "     Nationality  count\n",
       "0  United States    253\n",
       "1   East Germany    116\n",
       "2      Australia     96\n",
       "3    Netherlands     62\n",
       "4        Germany     21"
      ]
     },
     "metadata": {},
     "output_type": "display_data"
    }
   ],
   "source": [
    "# women\n",
    "records_bycountry_f = wrf['Nationality'].value_counts().reset_index()\n",
    "# print(records_bycountry_f.head(5))\n",
    "display(records_bycountry_f.head(5))"
   ]
  },
  {
   "cell_type": "code",
   "execution_count": 165,
   "metadata": {},
   "outputs": [
    {
     "name": "stdout",
     "output_type": "stream",
     "text": [
      "                 Name  Count\n",
      "0      Michael Phelps      5\n",
      "1          Mark Spitz      5\n",
      "2  Johnny Weissmuller      4\n",
      "3        John Konrads      4\n",
      "4       Michael Gross      4\n"
     ]
    }
   ],
   "source": [
    "# swimmers with records in the most different events\n",
    "# get list of swimmer names and event name\n",
    "# remove dups\n",
    "# count number of times each name pops up\n",
    "\n",
    "# men\n",
    "differentm1 = wrm[['Name', 'Event']].drop_duplicates().reset_index(drop = True)\n",
    "differentm2 = differentm1.groupby('Name').count().reset_index()\n",
    "differentm2.columns = ('Name', 'Count')\n",
    "differentm3 = differentm2.sort_values(by = 'Count', ascending = False).reset_index(drop = True)\n",
    "print(differentm3.head(5))"
   ]
  },
  {
   "cell_type": "code",
   "execution_count": 166,
   "metadata": {},
   "outputs": [
    {
     "name": "stdout",
     "output_type": "stream",
     "text": [
      "              Name  Count\n",
      "0      Shane Gould      6\n",
      "1   Kornelia Ender      6\n",
      "2  Ragnhild Hveger      5\n",
      "3   Helene Madison      5\n",
      "4  Martha Norelius      4\n"
     ]
    }
   ],
   "source": [
    "# women\n",
    "differentf1 = wrf[['Name', 'Event']].drop_duplicates().reset_index(drop = True)\n",
    "differentf2 = differentf1.groupby('Name').count().reset_index()\n",
    "differentf2.columns = ('Name', 'Count')\n",
    "differentf3 = differentf2.sort_values(by = 'Count', ascending = False).reset_index(drop = True)\n",
    "print(differentf3.head(5))"
   ]
  },
  {
   "cell_type": "code",
   "execution_count": 167,
   "metadata": {},
   "outputs": [],
   "source": [
    "# shortest time between records in the same event\n",
    "\n",
    "# make a new variable for each event that shows count of days between date of WRs\n",
    "# do I need to split it up by event?\n"
   ]
  },
  {
   "cell_type": "code",
   "execution_count": 168,
   "metadata": {},
   "outputs": [],
   "source": [
    "# longest time between records in the same event\n"
   ]
  },
  {
   "cell_type": "code",
   "execution_count": 169,
   "metadata": {},
   "outputs": [],
   "source": [
    "# records set at Olympics vs. not\n",
    "\n",
    "# search for \"oly\" and then remove trials meets\n",
    "# try this in excel first maybe, see if it gets everything?\n",
    "# can do checks by year and time of year (i.e., multiples of 4 and summertime)"
   ]
  }
 ],
 "metadata": {
  "kernelspec": {
   "display_name": "base",
   "language": "python",
   "name": "python3"
  },
  "language_info": {
   "codemirror_mode": {
    "name": "ipython",
    "version": 3
   },
   "file_extension": ".py",
   "mimetype": "text/x-python",
   "name": "python",
   "nbconvert_exporter": "python",
   "pygments_lexer": "ipython3",
   "version": "3.12.4"
  }
 },
 "nbformat": 4,
 "nbformat_minor": 2
}
