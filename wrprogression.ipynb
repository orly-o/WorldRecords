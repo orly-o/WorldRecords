{
 "cells": [
  {
   "cell_type": "markdown",
   "metadata": {},
   "source": [
    "Early look into WR progression. </br>\n",
    "And a kickoff to **From the Blocks** !! </br>\n",
    "Yeehaw, baby! "
   ]
  },
  {
   "cell_type": "code",
   "execution_count": 100,
   "metadata": {},
   "outputs": [],
   "source": [
    "# libraries\n",
    "import pandas as pd\n",
    "import numpy as np\n",
    "import os\n",
    "import re"
   ]
  },
  {
   "cell_type": "code",
   "execution_count": 101,
   "metadata": {},
   "outputs": [],
   "source": [
    "# data load\n",
    "path = '/Users/orly/Desktop/Swim Stats/WR Progression'\n",
    "wr = pd.read_csv(os.path.join(path, 'WRProgression.csv'))"
   ]
  },
  {
   "cell_type": "code",
   "execution_count": 102,
   "metadata": {},
   "outputs": [],
   "source": [
    "# new columns / data manipulation\n",
    "\n",
    "# stroke and distance, extract from event column\n",
    "wr[['Distance', 'Stroke']] = wr['Event'].str.split(' ', n = 1, expand = True)"
   ]
  },
  {
   "cell_type": "code",
   "execution_count": 103,
   "metadata": {},
   "outputs": [
    {
     "name": "stdout",
     "output_type": "stream",
     "text": [
      "Index(['Rank', 'Event', 'Sex', 'Time', 'Set', 'Note', 'Name', 'Nationality',\n",
      "       'Date', 'Meet', 'Location', 'Comments', 'Unnamed: 12', 'Unnamed: 13',\n",
      "       'Distance', 'Stroke'],\n",
      "      dtype='object')\n"
     ]
    }
   ],
   "source": [
    "print(wr.columns)"
   ]
  },
  {
   "cell_type": "code",
   "execution_count": 104,
   "metadata": {},
   "outputs": [
    {
     "name": "stdout",
     "output_type": "stream",
     "text": [
      "  Rank    Event Sex   Time       Set Note             Name    Nationality  \\\n",
      "0    1  50 Free   M  23.86  En Route  NaN    Jonty Skinner   South Africa   \n",
      "1    2  50 Free   M  23.74       NaN  NaN       Joe Bottom  United States   \n",
      "2    3  50 Free   M  23.72       NaN  NaN  Ron Manganiello  United States   \n",
      "3    4  50 Free   M  23.70       NaN  NaN  Klaus Steinbach   West Germany   \n",
      "4    5  50 Free   M  23.66       NaN  NaN  Chris Cavanaugh  United States   \n",
      "\n",
      "      Date                        Meet  \\\n",
      "0  8/14/76               AAU Nationals   \n",
      "1   7/3/77                  Canada Cup   \n",
      "2  7/29/78                           -   \n",
      "3  7/23/79                           -   \n",
      "4   2/2/80  International Invitational   \n",
      "\n",
      "                                    Location Comments  Unnamed: 12  \\\n",
      "0  Philadelphia, Pennsylvania, United States      NaN          NaN   \n",
      "1                          Etobicoke, Canada      NaN          NaN   \n",
      "2              Miami, Florida, United States      NaN          NaN   \n",
      "3                     Freiburg, West Germany      NaN          NaN   \n",
      "4                    Amersfoort, Netherlands      NaN          NaN   \n",
      "\n",
      "   Unnamed: 13 Distance Stroke  \n",
      "0          NaN       50   Free  \n",
      "1          NaN       50   Free  \n",
      "2          NaN       50   Free  \n",
      "3          NaN       50   Free  \n",
      "4          NaN       50   Free  \n"
     ]
    }
   ],
   "source": [
    "print(wr.head(5))"
   ]
  },
  {
   "cell_type": "code",
   "execution_count": 105,
   "metadata": {},
   "outputs": [],
   "source": [
    "# will be doing a lot of analysis for men and women separately\n",
    "# save separate datasets now to make it easier later\n",
    "wrm = wr[wr['Sex'] == 'M']\n",
    "wrf = wr[wr['Sex'] == 'F']"
   ]
  },
  {
   "cell_type": "code",
   "execution_count": 106,
   "metadata": {},
   "outputs": [
    {
     "name": "stdout",
     "output_type": "stream",
     "text": [
      "There are 552 total swimmers, 288 men and 264 women.\n"
     ]
    }
   ],
   "source": [
    "# start simple\n",
    "# separate M and F\n",
    "# how many swimmers are there?\n",
    "\n",
    "# break out\n",
    "swimmer_count_m = wrm['Name'].nunique()\n",
    "swimmer_count_f = wrf['Name'].nunique()\n",
    "\n",
    "# total\n",
    "swimmer_count = wr['Name'].nunique()\n",
    "\n",
    "print('There are', swimmer_count, 'total swimmers,', swimmer_count_m, 'men and', swimmer_count_f, 'women.')"
   ]
  },
  {
   "cell_type": "code",
   "execution_count": 107,
   "metadata": {},
   "outputs": [
    {
     "name": "stdout",
     "output_type": "stream",
     "text": [
      "                Name    Nationality  count\n",
      "0     Michael Phelps  United States     29\n",
      "1         Mark Spitz  United States     24\n",
      "2     Roland Matthes   East Germany     16\n",
      "3    Don Schollander  United States     14\n",
      "4         Ian Thorpe      Australia     13\n",
      "5      Aaron Peirsol  United States     13\n",
      "6  Vladimir Salnikov   Soviet Union     13\n",
      "7       John Hencken  United States     12\n",
      "8       John Konrads      Australia     12\n",
      "9    Stephen Holland      Australia     11\n",
      "              Name    Nationality  count\n",
      "0   Kornelia Ender   East Germany     24\n",
      "1     Debbie Meyer  United States     15\n",
      "2  Ragnhild Hveger        Denmark     15\n",
      "3    Katie Ledecky  United States     15\n",
      "4      Dawn Fraser      Australia     15\n",
      "5  Donna de Varona  United States     13\n",
      "6   Inge de Bruijn    Netherlands     12\n",
      "7   Penelope Heyns   South Africa     11\n",
      "8      Shane Gould      Australia     11\n",
      "9    Satoko Tanaka          Japan     10\n"
     ]
    }
   ],
   "source": [
    "# how many records has each swimmer set?\n",
    "# men\n",
    "records_m = wrm[['Name', 'Nationality']].value_counts().reset_index()\n",
    "print(records_m.head(10))\n",
    "\n",
    "# women\n",
    "records_f = wrf[['Name', 'Nationality']].value_counts().reset_index()\n",
    "print(records_f.head(10))"
   ]
  },
  {
   "cell_type": "code",
   "execution_count": 108,
   "metadata": {},
   "outputs": [
    {
     "name": "stdout",
     "output_type": "stream",
     "text": [
      "     Nationality  count\n",
      "0  United States    380\n",
      "1      Australia    103\n",
      "2          Japan     42\n",
      "3   Soviet Union     33\n",
      "4  Great Britain     26\n",
      "5         France     23\n",
      "6   East Germany     22\n",
      "7        Hungary     20\n",
      "8   West Germany     18\n",
      "9         Russia     17\n",
      "     Nationality  count\n",
      "0  United States    253\n",
      "1   East Germany    116\n",
      "2      Australia     96\n",
      "3    Netherlands     62\n",
      "4        Germany     21\n",
      "5   South Africa     20\n",
      "6        Denmark     19\n",
      "7         Canada     18\n",
      "8         Sweden     18\n",
      "9          China     16\n"
     ]
    }
   ],
   "source": [
    "# records by country\n",
    "# men\n",
    "records_bycountry_m = wrm['Nationality'].value_counts().reset_index()\n",
    "print(records_bycountry_m.head(10))\n",
    "\n",
    "# women\n",
    "records_bycountry_f = wrf['Nationality'].value_counts().reset_index()\n",
    "print(records_bycountry_f.head(10))"
   ]
  },
  {
   "cell_type": "code",
   "execution_count": 109,
   "metadata": {},
   "outputs": [
    {
     "name": "stdout",
     "output_type": "stream",
     "text": [
      "                 Name  Count\n",
      "0      Michael Phelps      5\n",
      "1          Mark Spitz      5\n",
      "2  Johnny Weissmuller      4\n",
      "3        John Konrads      4\n",
      "4       Michael Gross      4\n"
     ]
    }
   ],
   "source": [
    "# swimmers with records in the most different events\n",
    "# get list of swimmer names and event name\n",
    "# remove dups\n",
    "# count number of times each name pops up\n",
    "\n",
    "# men\n",
    "differentm1 = wrm[['Name', 'Event']].drop_duplicates().reset_index(drop = True)\n",
    "differentm2 = differentm1.groupby('Name').count().reset_index()\n",
    "differentm2.columns = ('Name', 'Count')\n",
    "differentm3 = differentm2.sort_values(by = 'Count', ascending = False).reset_index(drop = True)\n",
    "print(differentm3.head(5))"
   ]
  },
  {
   "cell_type": "code",
   "execution_count": 110,
   "metadata": {},
   "outputs": [
    {
     "name": "stdout",
     "output_type": "stream",
     "text": [
      "              Name  Count\n",
      "0      Shane Gould      6\n",
      "1   Kornelia Ender      6\n",
      "2  Ragnhild Hveger      5\n",
      "3   Helene Madison      5\n",
      "4  Martha Norelius      4\n"
     ]
    }
   ],
   "source": [
    "# women\n",
    "differentf1 = wrf[['Name', 'Event']].drop_duplicates().reset_index(drop = True)\n",
    "differentf2 = differentf1.groupby('Name').count().reset_index()\n",
    "differentf2.columns = ('Name', 'Count')\n",
    "differentf3 = differentf2.sort_values(by = 'Count', ascending = False).reset_index(drop = True)\n",
    "print(differentf3.head(5))"
   ]
  },
  {
   "cell_type": "code",
   "execution_count": 111,
   "metadata": {},
   "outputs": [],
   "source": [
    "# shortest time between records in the same event\n"
   ]
  },
  {
   "cell_type": "code",
   "execution_count": 112,
   "metadata": {},
   "outputs": [],
   "source": [
    "# longest time between records in the same event\n"
   ]
  },
  {
   "cell_type": "code",
   "execution_count": 113,
   "metadata": {},
   "outputs": [],
   "source": [
    "# records set at Olympics vs. not\n"
   ]
  }
 ],
 "metadata": {
  "kernelspec": {
   "display_name": "base",
   "language": "python",
   "name": "python3"
  },
  "language_info": {
   "codemirror_mode": {
    "name": "ipython",
    "version": 3
   },
   "file_extension": ".py",
   "mimetype": "text/x-python",
   "name": "python",
   "nbconvert_exporter": "python",
   "pygments_lexer": "ipython3",
   "version": "3.12.4"
  }
 },
 "nbformat": 4,
 "nbformat_minor": 2
}
