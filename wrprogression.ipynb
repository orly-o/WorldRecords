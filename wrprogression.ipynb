{
 "cells": [
  {
   "cell_type": "markdown",
   "metadata": {},
   "source": [
    "Early look into WR progression. </br>\n",
    "And a kickoff to **From the Blocks** !! </br>\n",
    "Yeehaw, baby! "
   ]
  },
  {
   "cell_type": "code",
   "execution_count": 3,
   "metadata": {},
   "outputs": [],
   "source": [
    "# libraries\n",
    "import pandas as pd\n",
    "import numpy as np\n",
    "import os"
   ]
  },
  {
   "cell_type": "code",
   "execution_count": 6,
   "metadata": {},
   "outputs": [],
   "source": [
    "# data load\n",
    "path = '/Users/orly/Desktop/Swim Stats/WR Progression'\n",
    "wr = pd.read_csv(os.path.join(path, 'WRProgression.csv'))"
   ]
  },
  {
   "cell_type": "code",
   "execution_count": 8,
   "metadata": {},
   "outputs": [
    {
     "name": "stdout",
     "output_type": "stream",
     "text": [
      "Index(['Rank', 'Event', 'Sex', 'Time', 'Set', 'Note', 'Name', 'Nationality',\n",
      "       'Date', 'Meet', 'Location', 'Comments'],\n",
      "      dtype='object')\n"
     ]
    }
   ],
   "source": [
    "print(wr.columns)"
   ]
  },
  {
   "cell_type": "code",
   "execution_count": 20,
   "metadata": {},
   "outputs": [],
   "source": [
    "# will be doing a lot of analysis for men and women separately\n",
    "# save separate datasets now to make it easier later\n",
    "wrm = wr[wr['Sex'] == 'M']\n",
    "wrf = wr[wr['Sex'] == 'F']"
   ]
  },
  {
   "cell_type": "code",
   "execution_count": 21,
   "metadata": {},
   "outputs": [
    {
     "name": "stdout",
     "output_type": "stream",
     "text": [
      "There are 552 total swimmers, 288 men and 264 women.\n"
     ]
    }
   ],
   "source": [
    "# start simple\n",
    "# separate M and F\n",
    "# how many swimmers are there?\n",
    "\n",
    "# break out\n",
    "swimmer_count_m = wrm['Name'].nunique()\n",
    "swimmer_count_f = wrf['Name'].nunique()\n",
    "\n",
    "# total\n",
    "swimmer_count = wr['Name'].nunique()\n",
    "\n",
    "print('There are', swimmer_count, 'total swimmers,', swimmer_count_m, 'men and', swimmer_count_f, 'women.')"
   ]
  },
  {
   "cell_type": "code",
   "execution_count": 28,
   "metadata": {},
   "outputs": [
    {
     "name": "stdout",
     "output_type": "stream",
     "text": [
      "                Name    Nationality  count\n",
      "0     Michael Phelps  United States     29\n",
      "1         Mark Spitz  United States     24\n",
      "2     Roland Matthes   East Germany     16\n",
      "3    Don Schollander  United States     14\n",
      "4         Ian Thorpe      Australia     13\n",
      "5      Aaron Peirsol  United States     13\n",
      "6  Vladimir Salnikov   Soviet Union     13\n",
      "7       John Hencken  United States     12\n",
      "8       John Konrads      Australia     12\n",
      "9    Stephen Holland      Australia     11\n"
     ]
    }
   ],
   "source": [
    "# how many records has each swimmer set?\n",
    "# men\n",
    "records_m = wrm[['Name', 'Nationality']].value_counts().reset_index()\n",
    "print(records_m.head(10))"
   ]
  },
  {
   "cell_type": "code",
   "execution_count": 32,
   "metadata": {},
   "outputs": [
    {
     "name": "stdout",
     "output_type": "stream",
     "text": [
      "                   Name    Nationality  count\n",
      "0        Kornelia Ender   East Germany     24\n",
      "1       Ragnhild Hveger        Denmark     15\n",
      "2          Debbie Meyer  United States     15\n",
      "3           Dawn Fraser      Australia     15\n",
      "4         Katie Ledecky  United States     15\n",
      "5       Donna de Varona  United States     13\n",
      "6        Inge de Bruijn    Netherlands     12\n",
      "7        Penelope Heyns   South Africa     11\n",
      "8           Shane Gould      Australia     11\n",
      "9         Satoko Tanaka          Japan     10\n",
      "10       Ulrike Richter   East Germany     10\n",
      "11       Sarah Sjöström         Sweden      9\n",
      "12        Ulrike Tauber   East Germany      9\n",
      "13  Federica Pellegrini          Italy      9\n",
      "14         Claudia Kolb  United States      9\n"
     ]
    }
   ],
   "source": [
    "# women\n",
    "records_f = wrf[['Name', 'Nationality']].value_counts().reset_index()\n",
    "print(records_f.head(10))"
   ]
  }
 ],
 "metadata": {
  "kernelspec": {
   "display_name": "base",
   "language": "python",
   "name": "python3"
  },
  "language_info": {
   "codemirror_mode": {
    "name": "ipython",
    "version": 3
   },
   "file_extension": ".py",
   "mimetype": "text/x-python",
   "name": "python",
   "nbconvert_exporter": "python",
   "pygments_lexer": "ipython3",
   "version": "3.12.4"
  }
 },
 "nbformat": 4,
 "nbformat_minor": 2
}
